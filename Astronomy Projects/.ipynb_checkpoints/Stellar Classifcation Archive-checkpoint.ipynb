{
 "cells": [
  {
   "cell_type": "markdown",
   "id": "e2f968d9",
   "metadata": {},
   "source": [
    "# Stellar Classification Exploration"
   ]
  },
  {
   "cell_type": "markdown",
   "id": "a9f7c14a",
   "metadata": {},
   "source": [
    "### This notebook is for exploring and visualizing the stars given by [this](https://www.kaggle.com/datasets/vinesmsuic/star-categorization-giants-and-dwarfs/data) Kaggle dataset"
   ]
  },
  {
   "cell_type": "code",
   "execution_count": 1,
   "id": "6a31b87d",
   "metadata": {},
   "outputs": [],
   "source": [
    "# Import the Pandas package\n",
    "import pandas as pd\n",
    "\n",
    "# Import the NumPy package\n",
    "import numpy as np"
   ]
  },
  {
   "cell_type": "markdown",
   "id": "12386ed2",
   "metadata": {},
   "source": [
    "### Here we're going to load in the data and explore the number of columns:"
   ]
  },
  {
   "cell_type": "code",
   "execution_count": 2,
   "id": "e909c8ef",
   "metadata": {},
   "outputs": [
    {
     "data": {
      "text/plain": [
       "(99999, 6)"
      ]
     },
     "execution_count": 2,
     "metadata": {},
     "output_type": "execute_result"
    }
   ],
   "source": [
    "# Load a file as a DataFrame and assign to the variable name exo\n",
    "stars = pd.read_csv(\"archive/Star99999_raw.csv\")\n",
    "\n",
    "# Counting number of rows (first number) and columns (second number)\n",
    "stars.shape"
   ]
  },
  {
   "cell_type": "code",
   "execution_count": 3,
   "id": "ccb16091",
   "metadata": {},
   "outputs": [
    {
     "data": {
      "text/html": [
       "<div>\n",
       "<style scoped>\n",
       "    .dataframe tbody tr th:only-of-type {\n",
       "        vertical-align: middle;\n",
       "    }\n",
       "\n",
       "    .dataframe tbody tr th {\n",
       "        vertical-align: top;\n",
       "    }\n",
       "\n",
       "    .dataframe thead th {\n",
       "        text-align: right;\n",
       "    }\n",
       "</style>\n",
       "<table border=\"1\" class=\"dataframe\">\n",
       "  <thead>\n",
       "    <tr style=\"text-align: right;\">\n",
       "      <th></th>\n",
       "      <th>Unnamed: 0</th>\n",
       "      <th>Vmag</th>\n",
       "      <th>Plx</th>\n",
       "      <th>e_Plx</th>\n",
       "      <th>B-V</th>\n",
       "      <th>SpType</th>\n",
       "    </tr>\n",
       "  </thead>\n",
       "  <tbody>\n",
       "    <tr>\n",
       "      <th>0</th>\n",
       "      <td>0</td>\n",
       "      <td>9.10</td>\n",
       "      <td>3.54</td>\n",
       "      <td>1.39</td>\n",
       "      <td>0.482</td>\n",
       "      <td>F5</td>\n",
       "    </tr>\n",
       "    <tr>\n",
       "      <th>1</th>\n",
       "      <td>1</td>\n",
       "      <td>9.27</td>\n",
       "      <td>21.90</td>\n",
       "      <td>3.10</td>\n",
       "      <td>0.999</td>\n",
       "      <td>K3V</td>\n",
       "    </tr>\n",
       "    <tr>\n",
       "      <th>2</th>\n",
       "      <td>2</td>\n",
       "      <td>6.61</td>\n",
       "      <td>2.81</td>\n",
       "      <td>0.63</td>\n",
       "      <td>-0.019</td>\n",
       "      <td>B9</td>\n",
       "    </tr>\n",
       "    <tr>\n",
       "      <th>3</th>\n",
       "      <td>3</td>\n",
       "      <td>8.06</td>\n",
       "      <td>7.75</td>\n",
       "      <td>0.97</td>\n",
       "      <td>0.370</td>\n",
       "      <td>F0V</td>\n",
       "    </tr>\n",
       "    <tr>\n",
       "      <th>4</th>\n",
       "      <td>4</td>\n",
       "      <td>8.55</td>\n",
       "      <td>2.87</td>\n",
       "      <td>1.11</td>\n",
       "      <td>0.902</td>\n",
       "      <td>G8III</td>\n",
       "    </tr>\n",
       "  </tbody>\n",
       "</table>\n",
       "</div>"
      ],
      "text/plain": [
       "   Unnamed: 0   Vmag      Plx   e_Plx     B-V SpType\n",
       "0           0   9.10     3.54    1.39   0.482     F5\n",
       "1           1   9.27    21.90    3.10   0.999    K3V\n",
       "2           2   6.61     2.81    0.63  -0.019     B9\n",
       "3           3   8.06     7.75    0.97   0.370    F0V\n",
       "4           4   8.55     2.87    1.11   0.902  G8III"
      ]
     },
     "execution_count": 3,
     "metadata": {},
     "output_type": "execute_result"
    }
   ],
   "source": [
    "# Exploring the first 5 rows \n",
    "stars.head()"
   ]
  },
  {
   "cell_type": "markdown",
   "id": "2e453c94",
   "metadata": {},
   "source": [
    "### Explanation of the [variables](https://vizier.cds.unistra.fr/viz-bin/VizieR-3) we care about\n",
    "\n",
    "**V_mag** = photometric magnitude aka [apparent magnitude](https://www.britannica.com/science/photometry-astronomy)\n",
    "\n",
    "**Plx** = [trigonometric parallax](https://astronomy.swin.edu.au/cosmos/T/Trigonometric+Parallax) in milli-arcsecs\n",
    "\n",
    "**e_Plx** = standard error of parallax in milli-arcsecs\n",
    "\n",
    "**B-V** = magnitude difference between optical B and optical V band\n",
    "\n",
    "**SpType** = spectral type of the star (uses the [Morgan-Keenan](https://astronomy.swin.edu.au/cosmos/m/morgan-keenan+luminosity+class) MK classification)"
   ]
  },
  {
   "cell_type": "code",
   "execution_count": 4,
   "id": "daf030b8",
   "metadata": {},
   "outputs": [
    {
     "data": {
      "text/html": [
       "<div>\n",
       "<style scoped>\n",
       "    .dataframe tbody tr th:only-of-type {\n",
       "        vertical-align: middle;\n",
       "    }\n",
       "\n",
       "    .dataframe tbody tr th {\n",
       "        vertical-align: top;\n",
       "    }\n",
       "\n",
       "    .dataframe thead th {\n",
       "        text-align: right;\n",
       "    }\n",
       "</style>\n",
       "<table border=\"1\" class=\"dataframe\">\n",
       "  <thead>\n",
       "    <tr style=\"text-align: right;\">\n",
       "      <th></th>\n",
       "      <th>Unnamed: 0</th>\n",
       "      <th>Vmag</th>\n",
       "      <th>Plx</th>\n",
       "      <th>e_Plx</th>\n",
       "      <th>B-V</th>\n",
       "      <th>SpType</th>\n",
       "    </tr>\n",
       "  </thead>\n",
       "  <tbody>\n",
       "    <tr>\n",
       "      <th>0</th>\n",
       "      <td>0</td>\n",
       "      <td>9.10</td>\n",
       "      <td>3.54</td>\n",
       "      <td>1.39</td>\n",
       "      <td>0.482</td>\n",
       "      <td>F5</td>\n",
       "    </tr>\n",
       "    <tr>\n",
       "      <th>1</th>\n",
       "      <td>1</td>\n",
       "      <td>9.27</td>\n",
       "      <td>21.90</td>\n",
       "      <td>3.10</td>\n",
       "      <td>0.999</td>\n",
       "      <td>K3V</td>\n",
       "    </tr>\n",
       "    <tr>\n",
       "      <th>2</th>\n",
       "      <td>2</td>\n",
       "      <td>6.61</td>\n",
       "      <td>2.81</td>\n",
       "      <td>0.63</td>\n",
       "      <td>-0.019</td>\n",
       "      <td>B9</td>\n",
       "    </tr>\n",
       "    <tr>\n",
       "      <th>3</th>\n",
       "      <td>3</td>\n",
       "      <td>8.06</td>\n",
       "      <td>7.75</td>\n",
       "      <td>0.97</td>\n",
       "      <td>0.370</td>\n",
       "      <td>F0V</td>\n",
       "    </tr>\n",
       "    <tr>\n",
       "      <th>4</th>\n",
       "      <td>4</td>\n",
       "      <td>8.55</td>\n",
       "      <td>2.87</td>\n",
       "      <td>1.11</td>\n",
       "      <td>0.902</td>\n",
       "      <td>G8III</td>\n",
       "    </tr>\n",
       "  </tbody>\n",
       "</table>\n",
       "</div>"
      ],
      "text/plain": [
       "   Unnamed: 0   Vmag      Plx   e_Plx     B-V SpType\n",
       "0           0   9.10     3.54    1.39   0.482     F5\n",
       "1           1   9.27    21.90    3.10   0.999    K3V\n",
       "2           2   6.61     2.81    0.63  -0.019     B9\n",
       "3           3   8.06     7.75    0.97   0.370    F0V\n",
       "4           4   8.55     2.87    1.11   0.902  G8III"
      ]
     },
     "execution_count": 4,
     "metadata": {},
     "output_type": "execute_result"
    }
   ],
   "source": [
    "# Make a copy of the dataset so we leave the raw file alone\n",
    "star_copy = stars.copy()\n",
    "star_copy.head()"
   ]
  },
  {
   "cell_type": "code",
   "execution_count": 5,
   "id": "8364472f",
   "metadata": {},
   "outputs": [
    {
     "data": {
      "text/html": [
       "<div>\n",
       "<style scoped>\n",
       "    .dataframe tbody tr th:only-of-type {\n",
       "        vertical-align: middle;\n",
       "    }\n",
       "\n",
       "    .dataframe tbody tr th {\n",
       "        vertical-align: top;\n",
       "    }\n",
       "\n",
       "    .dataframe thead th {\n",
       "        text-align: right;\n",
       "    }\n",
       "</style>\n",
       "<table border=\"1\" class=\"dataframe\">\n",
       "  <thead>\n",
       "    <tr style=\"text-align: right;\">\n",
       "      <th></th>\n",
       "      <th>Vmag</th>\n",
       "      <th>Plx</th>\n",
       "      <th>e_Plx</th>\n",
       "      <th>B-V</th>\n",
       "      <th>SpType</th>\n",
       "    </tr>\n",
       "  </thead>\n",
       "  <tbody>\n",
       "    <tr>\n",
       "      <th>0</th>\n",
       "      <td>9.10</td>\n",
       "      <td>3.54</td>\n",
       "      <td>1.39</td>\n",
       "      <td>0.482</td>\n",
       "      <td>F5</td>\n",
       "    </tr>\n",
       "    <tr>\n",
       "      <th>1</th>\n",
       "      <td>9.27</td>\n",
       "      <td>21.90</td>\n",
       "      <td>3.10</td>\n",
       "      <td>0.999</td>\n",
       "      <td>K3V</td>\n",
       "    </tr>\n",
       "    <tr>\n",
       "      <th>2</th>\n",
       "      <td>6.61</td>\n",
       "      <td>2.81</td>\n",
       "      <td>0.63</td>\n",
       "      <td>-0.019</td>\n",
       "      <td>B9</td>\n",
       "    </tr>\n",
       "    <tr>\n",
       "      <th>3</th>\n",
       "      <td>8.06</td>\n",
       "      <td>7.75</td>\n",
       "      <td>0.97</td>\n",
       "      <td>0.370</td>\n",
       "      <td>F0V</td>\n",
       "    </tr>\n",
       "    <tr>\n",
       "      <th>4</th>\n",
       "      <td>8.55</td>\n",
       "      <td>2.87</td>\n",
       "      <td>1.11</td>\n",
       "      <td>0.902</td>\n",
       "      <td>G8III</td>\n",
       "    </tr>\n",
       "  </tbody>\n",
       "</table>\n",
       "</div>"
      ],
      "text/plain": [
       "    Vmag      Plx   e_Plx     B-V SpType\n",
       "0   9.10     3.54    1.39   0.482     F5\n",
       "1   9.27    21.90    3.10   0.999    K3V\n",
       "2   6.61     2.81    0.63  -0.019     B9\n",
       "3   8.06     7.75    0.97   0.370    F0V\n",
       "4   8.55     2.87    1.11   0.902  G8III"
      ]
     },
     "execution_count": 5,
     "metadata": {},
     "output_type": "execute_result"
    }
   ],
   "source": [
    "# We can remove the first column completely as this is just to keep track of star 1, star 2, star 3, etc.\n",
    "star_copy = star_copy[[\"Vmag\", \"Plx\", \"e_Plx\", \"B-V\", \"SpType\"]]\n",
    "star_copy.head()"
   ]
  },
  {
   "cell_type": "markdown",
   "id": "9bbae25d",
   "metadata": {},
   "source": [
    "### Let's work on finding the absolute magnitude of these stars\n",
    "\n",
    "The relationship between apparent magnitude and absolute magnitude is as follows:\n",
    "\n",
    "$m - M = 5log \\frac{d}{10}$\n",
    "\n",
    "where \"m\" is apparent magnitude, \"M\" is absolute magnitude, and \"d\" is distance to the star from Earth in parseconds\n"
   ]
  },
  {
   "cell_type": "markdown",
   "id": "743a298a",
   "metadata": {},
   "source": [
    "The relationship between distance and parallax is:\n",
    "\n",
    "$d = \\frac{1}{p}$\n",
    "\n",
    "where \"p\" is the trignometric parallax in arcseconds"
   ]
  },
  {
   "cell_type": "markdown",
   "id": "e2705d4d",
   "metadata": {},
   "source": [
    "### Before making our calculations, let's check the data type of the parallax column"
   ]
  },
  {
   "cell_type": "code",
   "execution_count": 6,
   "id": "7a034b95",
   "metadata": {},
   "outputs": [
    {
     "data": {
      "text/plain": [
       "'   3.54'"
      ]
     },
     "execution_count": 6,
     "metadata": {},
     "output_type": "execute_result"
    }
   ],
   "source": [
    "# Check the first row of the parallax column\n",
    "star_copy.iloc[0][1]\n"
   ]
  },
  {
   "cell_type": "code",
   "execution_count": 7,
   "id": "a15468f4",
   "metadata": {},
   "outputs": [
    {
     "data": {
      "text/plain": [
       "str"
      ]
     },
     "execution_count": 7,
     "metadata": {},
     "output_type": "execute_result"
    }
   ],
   "source": [
    "# The type is currently a string, so we can't do numerical operations\n",
    "type(star_copy.iloc[0][1])"
   ]
  },
  {
   "cell_type": "code",
   "execution_count": 8,
   "id": "08f93ea6",
   "metadata": {},
   "outputs": [
    {
     "name": "stdout",
     "output_type": "stream",
     "text": [
      "3.54\n",
      "<class 'float'>\n"
     ]
    }
   ],
   "source": [
    "# Need to remove empty spaces from string and convert to decimal number using float()\n",
    "\n",
    "example = star_copy.iloc[0][1] # the original string cell value \n",
    "convert_num = \"\" # this will be our converted decimal number\n",
    "count = 0\n",
    "\n",
    "for i in range(len(example)):\n",
    "    if example[i] != \" \":\n",
    "        convert_num += example[i]\n",
    "        count += 1\n",
    "    else:\n",
    "        count += 1\n",
    "        \n",
    "convert_num = float(convert_num) # our string value is now a decimal number containing no spaces\n",
    "print(convert_num)\n",
    "print(type(convert_num))"
   ]
  },
  {
   "cell_type": "markdown",
   "id": "64172258",
   "metadata": {},
   "source": [
    "Now let's build a function capable of iterating over the entire dataset and replace the old string values with numerical ones that don't contain empty spaces"
   ]
  },
  {
   "cell_type": "code",
   "execution_count": null,
   "id": "aaa3d98b",
   "metadata": {},
   "outputs": [],
   "source": [
    "# First let's convert all the parallax values to arcseconds - since it's currently in milli-arcseconds, divide by 1000"
   ]
  }
 ],
 "metadata": {
  "kernelspec": {
   "display_name": "Python 3 (ipykernel)",
   "language": "python",
   "name": "python3"
  },
  "language_info": {
   "codemirror_mode": {
    "name": "ipython",
    "version": 3
   },
   "file_extension": ".py",
   "mimetype": "text/x-python",
   "name": "python",
   "nbconvert_exporter": "python",
   "pygments_lexer": "ipython3",
   "version": "3.11.5"
  }
 },
 "nbformat": 4,
 "nbformat_minor": 5
}
